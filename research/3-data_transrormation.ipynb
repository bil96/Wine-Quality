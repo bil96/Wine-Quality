{
 "cells": [
  {
   "cell_type": "code",
   "execution_count": 1,
   "id": "ff8c5dc9",
   "metadata": {},
   "outputs": [],
   "source": [
    "import os"
   ]
  },
  {
   "cell_type": "code",
   "execution_count": 2,
   "id": "7e8052a5",
   "metadata": {},
   "outputs": [
    {
     "data": {
      "text/plain": [
       "'c:\\\\Users\\\\bilal\\\\Documents\\\\mlops\\\\Wine-Quality\\\\research'"
      ]
     },
     "execution_count": 2,
     "metadata": {},
     "output_type": "execute_result"
    }
   ],
   "source": [
    "%pwd"
   ]
  },
  {
   "cell_type": "code",
   "execution_count": 4,
   "id": "326aa71d",
   "metadata": {},
   "outputs": [],
   "source": [
    "os.chdir('../')"
   ]
  },
  {
   "cell_type": "code",
   "execution_count": 6,
   "id": "d0a8d5e8",
   "metadata": {},
   "outputs": [
    {
     "data": {
      "text/plain": [
       "'c:\\\\Users\\\\bilal\\\\Documents\\\\mlops\\\\Wine-Quality'"
      ]
     },
     "execution_count": 6,
     "metadata": {},
     "output_type": "execute_result"
    }
   ],
   "source": [
    "%pwd"
   ]
  },
  {
   "cell_type": "code",
   "execution_count": 19,
   "id": "8b70306f",
   "metadata": {},
   "outputs": [],
   "source": [
    "from dataclasses import dataclass\n",
    "from pathlib import Path\n",
    "\n",
    "@dataclass\n",
    "class DataTransformationConfig:\n",
    "    root_dir: Path\n",
    "    data_path: Path"
   ]
  },
  {
   "cell_type": "code",
   "execution_count": 20,
   "id": "b484c92e",
   "metadata": {},
   "outputs": [],
   "source": [
    "from src.WineQuality.constants import *\n",
    "from src.WineQuality.utils.common import read_yaml, create_directories\n"
   ]
  },
  {
   "cell_type": "code",
   "execution_count": 21,
   "id": "41ddb41a",
   "metadata": {},
   "outputs": [],
   "source": [
    "class ConfigurationManager:\n",
    "    def __init__(self,\n",
    "                 config_filepath = CONFIG_FILE_PATH,\n",
    "                 params_filepath = PARAMS_FILE_PATH,\n",
    "                 schema_filepath = SCHEMA_FILE_PATH):\n",
    "        self.config = read_yaml(config_filepath)\n",
    "        self.params = read_yaml(params_filepath)\n",
    "        self.schema = read_yaml(schema_filepath)\n",
    "\n",
    "        create_directories([self.config.artifacts_root])\n",
    "\n",
    "    def get_data_transformation_config(self) -> DataTransformationConfig:\n",
    "        confog= self.config.data_transformation\n",
    "        create_directories([confog.root_dir])\n",
    "        data_transformation_config = DataTransformationConfig(\n",
    "            root_dir=confog.root_dir,\n",
    "            data_path=confog.data_path\n",
    "        )\n",
    "        return data_transformation_config\n",
    "\n",
    "\n",
    "\n",
    "\n",
    "\n"
   ]
  },
  {
   "cell_type": "code",
   "execution_count": 22,
   "id": "67275945",
   "metadata": {},
   "outputs": [],
   "source": [
    "from src.WineQuality import logger\n",
    "from sklearn.model_selection import train_test_split\n",
    "import pandas as pd\n"
   ]
  },
  {
   "cell_type": "code",
   "execution_count": 23,
   "id": "cfe66cfc",
   "metadata": {},
   "outputs": [],
   "source": [
    "class DataTransformation:\n",
    "    def __init__(self, config: DataTransformationConfig):\n",
    "        self.config = config\n",
    "\n",
    "\n",
    "    def train_test_split(self):\n",
    "        data=pd.read_csv(self.config.data_path)\n",
    "\n",
    "        train,test=train_test_split(data)\n",
    "\n",
    "        train.to_csv(os.path.join(self.config.root_dir, 'train.csv'), index=False)\n",
    "        test.to_csv(os.path.join(self.config.root_dir, 'test.csv'), index=False)\n",
    "\n",
    "\n",
    "        logger.info(f\"Train and test data created and saved at {self.config.root_dir}\")\n",
    "        logger.info(f\"Train data shape: {train.shape}\")\n",
    "        logger.info(f\"Test data shape: {test.shape}\")\n",
    "\n",
    "        print(f\"Train data shape: {train.shape}\")\n",
    "        print(f\"Test data shape: {test.shape}\")\n",
    "\n"
   ]
  },
  {
   "cell_type": "code",
   "execution_count": 24,
   "id": "1cb4c414",
   "metadata": {},
   "outputs": [
    {
     "name": "stdout",
     "output_type": "stream",
     "text": [
      "[2025-05-12 23:34:02,138: INFO:wine-quality:27: YAML file config\\config.yaml loaded successfully.]\n",
      "[2025-05-12 23:34:02,140: INFO:wine-quality:27: YAML file params.yaml loaded successfully.]\n",
      "[2025-05-12 23:34:02,143: INFO:wine-quality:27: YAML file schema.yaml loaded successfully.]\n",
      "[2025-05-12 23:34:02,145: INFO:wine-quality:48: Creating directory: artifacts]\n",
      "[2025-05-12 23:34:02,147: INFO:wine-quality:48: Creating directory: artifacts/data_transformation]\n",
      "[2025-05-12 23:34:02,224: INFO:wine-quality:15: Train and test data created and saved at artifacts/data_transformation]\n",
      "[2025-05-12 23:34:02,226: INFO:wine-quality:16: Train data shape: (1199, 12)]\n",
      "[2025-05-12 23:34:02,227: INFO:wine-quality:17: Test data shape: (400, 12)]\n",
      "Train data shape: (1199, 12)\n",
      "Test data shape: (400, 12)\n"
     ]
    }
   ],
   "source": [
    "try:\n",
    "    config = ConfigurationManager()\n",
    "    data_transformation_config = config.get_data_transformation_config()\n",
    "    data_transformation = DataTransformation(config=data_transformation_config)\n",
    "    data_transformation.train_test_split()\n",
    "except Exception as e:\n",
    "    raise e\n",
    "\n"
   ]
  },
  {
   "cell_type": "code",
   "execution_count": null,
   "id": "e5dc5bbc",
   "metadata": {},
   "outputs": [],
   "source": []
  },
  {
   "cell_type": "code",
   "execution_count": null,
   "id": "dc51685c",
   "metadata": {},
   "outputs": [],
   "source": []
  }
 ],
 "metadata": {
  "kernelspec": {
   "display_name": "Python 3",
   "language": "python",
   "name": "python3"
  },
  "language_info": {
   "codemirror_mode": {
    "name": "ipython",
    "version": 3
   },
   "file_extension": ".py",
   "mimetype": "text/x-python",
   "name": "python",
   "nbconvert_exporter": "python",
   "pygments_lexer": "ipython3",
   "version": "3.10.0"
  }
 },
 "nbformat": 4,
 "nbformat_minor": 5
}
