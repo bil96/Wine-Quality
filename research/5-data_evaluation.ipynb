{
 "cells": [
  {
   "cell_type": "code",
   "execution_count": 1,
   "id": "2368b3c7",
   "metadata": {},
   "outputs": [],
   "source": [
    "import os\n",
    "os.environ['MLFLOW_TRACKING_URI'] = \"https://dagshub.com/bil96/Wine-Quality.mlflow\"\n",
    "os.environ['MLFLOW_TRACKING_USERNAME'] = \"bil96\"\n",
    "os.environ['MLFLOW_TRACKING_PASSWORD'] = \"99cc54f8815271eb745f16c20e6b33fe22603ab9\""
   ]
  },
  {
   "cell_type": "code",
   "execution_count": 2,
   "id": "c385a0ac",
   "metadata": {},
   "outputs": [
    {
     "data": {
      "text/plain": [
       "'c:\\\\Users\\\\bilal\\\\Documents\\\\mlops\\\\Wine-Quality\\\\research'"
      ]
     },
     "execution_count": 2,
     "metadata": {},
     "output_type": "execute_result"
    }
   ],
   "source": [
    "%pwd"
   ]
  },
  {
   "cell_type": "code",
   "execution_count": 3,
   "id": "14c13f90",
   "metadata": {},
   "outputs": [],
   "source": [
    "os.chdir('../')"
   ]
  },
  {
   "cell_type": "code",
   "execution_count": 4,
   "id": "40a35e17",
   "metadata": {},
   "outputs": [
    {
     "data": {
      "text/plain": [
       "'c:\\\\Users\\\\bilal\\\\Documents\\\\mlops\\\\Wine-Quality'"
      ]
     },
     "execution_count": 4,
     "metadata": {},
     "output_type": "execute_result"
    }
   ],
   "source": [
    "%pwd"
   ]
  },
  {
   "cell_type": "code",
   "execution_count": 5,
   "id": "870d971a",
   "metadata": {},
   "outputs": [],
   "source": [
    "from dataclasses import dataclass\n",
    "from pathlib import Path\n",
    "\n",
    "@dataclass\n",
    "class ModelEvaluationConfig:\n",
    "    root_dir: Path\n",
    "    test_data_path: Path\n",
    "    model_path: Path\n",
    "    all_params_path: Path\n",
    "    metrics_file_name: str\n",
    "    target_column: str\n",
    "    mlflow_uri: str\n"
   ]
  },
  {
   "cell_type": "code",
   "execution_count": 6,
   "id": "2d08b181",
   "metadata": {},
   "outputs": [],
   "source": [
    "from src.WineQuality.constants import *\n",
    "from src.WineQuality.utils.common import read_yaml, create_directories ,save_json\n"
   ]
  },
  {
   "cell_type": "code",
   "execution_count": 7,
   "id": "0d941a11",
   "metadata": {},
   "outputs": [
    {
     "data": {
      "text/plain": [
       "'c:\\\\Users\\\\bilal\\\\Documents\\\\mlops\\\\Wine-Quality'"
      ]
     },
     "execution_count": 7,
     "metadata": {},
     "output_type": "execute_result"
    }
   ],
   "source": [
    "%pwd"
   ]
  },
  {
   "cell_type": "code",
   "execution_count": 8,
   "id": "dafd04c9",
   "metadata": {},
   "outputs": [],
   "source": [
    "class ConfigurationManager:\n",
    "    def __init__(self,\n",
    "                 config_file_path=CONFIG_FILE_PATH,\n",
    "                 params_file_path=PARAMS_FILE_PATH,\n",
    "                 schema_file_path=SCHEMA_FILE_PATH,\n",
    "                 ):\n",
    "        self.config = read_yaml(config_file_path)\n",
    "        self.params = read_yaml(params_file_path)\n",
    "        self.schema = read_yaml(schema_file_path)\n",
    "\n",
    "        create_directories([self.config.artifacts_root])\n",
    "\n",
    "    def get_model_evaluation_config(self) -> ModelEvaluationConfig:\n",
    "        config = self.config.model_evaluation\n",
    "        params = self.params.ElasticNet\n",
    "        schema = self.schema.TARGET_COLUMN\n",
    "\n",
    "        create_directories([config.root_dir])\n",
    "\n",
    "\n",
    "        model_eval_config = ModelEvaluationConfig(\n",
    "            root_dir=self.config.artifacts_root,\n",
    "            test_data_path=config.test_data_path,\n",
    "            model_path=config.model_path,\n",
    "            all_params_path=params,\n",
    "            metrics_file_name=config.metric_file_name,\n",
    "            target_column=schema.name,\n",
    "            mlflow_uri=\"https://dagshub.com/bil96/Wine-Quality.mlflow\"\n",
    "        )\n",
    "        return model_eval_config"
   ]
  },
  {
   "cell_type": "code",
   "execution_count": 9,
   "id": "98522b34",
   "metadata": {},
   "outputs": [],
   "source": [
    "import pandas as pd\n",
    "from sklearn.metrics import r2_score, mean_absolute_error, mean_squared_error\n",
    "from urllib.parse import urlparse\n",
    "import mlflow\n",
    "import mlflow.sklearn\n",
    "import numpy as np\n",
    "import joblib"
   ]
  },
  {
   "cell_type": "code",
   "execution_count": 12,
   "id": "526caf1f",
   "metadata": {},
   "outputs": [],
   "source": [
    "class ModelEvaluation:\n",
    "    def __init__(self, config: ModelEvaluationConfig):\n",
    "        self.config = config\n",
    "\n",
    "    def evaluate_metrics(self,actual, predicted ):\n",
    "        r2 = r2_score(actual, predicted)\n",
    "        mae = mean_absolute_error(actual, predicted)\n",
    "        mse = mean_squared_error(actual, predicted)\n",
    "        rmse = np.sqrt(mse)\n",
    "\n",
    "        return r2, mae, mse, rmse\n",
    "\n",
    "    def log_into_mlflow(self ):\n",
    "        test_data = pd.read_csv(self.config.test_data_path)\n",
    "        model = joblib.load(self.config.model_path)\n",
    "        X_test = test_data.drop(columns=[self.config.target_column], axis=1)\n",
    "        y_test = test_data[self.config.target_column]\n",
    "\n",
    "\n",
    "        mlflow.set_registry_uri(self.config.mlflow_uri)\n",
    "        tracking_uri = urlparse(mlflow.get_tracking_uri()).scheme\n",
    "\n",
    "        with mlflow.start_run():\n",
    "            predict = model.predict(X_test)\n",
    "            (r2, mae, mse, rmse) = self.evaluate_metrics(y_test, predict)\n",
    "            scores = {\"r2_score\": r2, \"mean_absolute_error\": mae, \"mean_squared_error\": mse, \"root_mean_squared_error\": rmse}\n",
    "            save_json(path=Path( self.config.metrics_file_name), data=scores)\n",
    "            mlflow.log_params(self.config.all_params_path)\n",
    "\n",
    "            mlflow.log_metric(\"rmse\",rmse)\n",
    "            mlflow.log_metric(\"r2\",r2)\n",
    "            mlflow.log_metric(\"mae\",mae)\n",
    "\n",
    "            if tracking_uri == \"file\":\n",
    "                mlflow.sklearn.log_model(model,\"model\" ,registered_model_name=\"ElasticNetModel\")\n",
    "            else:\n",
    "                mlflow.sklearn.log_model(model, \"model\")\n",
    "\n",
    "\n",
    "\n"
   ]
  },
  {
   "cell_type": "code",
   "execution_count": 13,
   "id": "b1b75cbd",
   "metadata": {},
   "outputs": [
    {
     "name": "stdout",
     "output_type": "stream",
     "text": [
      "[2025-05-13 03:50:00,997: INFO:wine-quality:27: YAML file config\\config.yaml loaded successfully.]\n",
      "[2025-05-13 03:50:00,999: INFO:wine-quality:27: YAML file params.yaml loaded successfully.]\n",
      "[2025-05-13 03:50:01,004: INFO:wine-quality:27: YAML file schema.yaml loaded successfully.]\n",
      "[2025-05-13 03:50:01,006: INFO:wine-quality:48: Creating directory: artifacts]\n",
      "[2025-05-13 03:50:01,009: INFO:wine-quality:48: Creating directory: artifacts/model_evaluation]\n",
      "[2025-05-13 03:50:01,211: INFO:wine-quality:61: JSON file saved at artifacts\\model_evaluation\\metrics.json]\n"
     ]
    },
    {
     "name": "stderr",
     "output_type": "stream",
     "text": [
      "2025/05/13 03:50:12 WARNING mlflow.models.model: Model logged without a signature and input example. Please set `input_example` parameter when logging the model to auto infer the model signature.\n"
     ]
    },
    {
     "name": "stdout",
     "output_type": "stream",
     "text": [
      "🏃 View run rogue-duck-940 at: https://dagshub.com/bil96/Wine-Quality.mlflow/#/experiments/0/runs/3b1081f02df64e4db7ebbb5609ada6d8\n",
      "🧪 View experiment at: https://dagshub.com/bil96/Wine-Quality.mlflow/#/experiments/0\n"
     ]
    }
   ],
   "source": [
    "try:\n",
    "    config = ConfigurationManager()\n",
    "    model_eval_config = config.get_model_evaluation_config()\n",
    "    model_eval_config = ModelEvaluation(config=model_eval_config)\n",
    "    model_eval_config.log_into_mlflow()\n",
    "except Exception as e:\n",
    "    raise e\n"
   ]
  },
  {
   "cell_type": "code",
   "execution_count": null,
   "id": "6eb71571",
   "metadata": {},
   "outputs": [],
   "source": []
  }
 ],
 "metadata": {
  "kernelspec": {
   "display_name": "Python 3",
   "language": "python",
   "name": "python3"
  },
  "language_info": {
   "codemirror_mode": {
    "name": "ipython",
    "version": 3
   },
   "file_extension": ".py",
   "mimetype": "text/x-python",
   "name": "python",
   "nbconvert_exporter": "python",
   "pygments_lexer": "ipython3",
   "version": "3.10.0"
  }
 },
 "nbformat": 4,
 "nbformat_minor": 5
}
